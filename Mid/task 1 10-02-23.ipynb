{
 "cells": [
  {
   "cell_type": "code",
   "execution_count": 1,
   "id": "f2fbaaa7",
   "metadata": {},
   "outputs": [
    {
     "name": "stdout",
     "output_type": "stream",
     "text": [
      "List Operations:\n",
      "Original List: [1, 2, 3, 4, 5, 6, 7, 8, 9, 10]\n",
      "List after appending squares: [1, 4, 9, 16, 25, 36, 49, 64, 81, 100]\n",
      "Sum of all elements in the list: 385\n",
      "\n"
     ]
    }
   ],
   "source": [
    "numbers_list = list(range(1, 11))\n",
    "squares_list = [num ** 2 for num in numbers_list]\n",
    "sum_of_elements = sum(squares_list)\n",
    "\n",
    "print(\"List Operations:\")\n",
    "print(\"Original List:\", numbers_list)\n",
    "print(\"List after appending squares:\", squares_list)\n",
    "print(\"Sum of all elements in the list:\", sum_of_elements)\n",
    "print()"
   ]
  },
  {
   "cell_type": "code",
   "execution_count": 2,
   "id": "1063053b",
   "metadata": {},
   "outputs": [
    {
     "name": "stdout",
     "output_type": "stream",
     "text": [
      "Tuple Operations:\n",
      "Tuple of first five even numbers: (2, 4, 6, 8, 10)\n",
      "Product of all elements in the tuple: 3840\n",
      "\n"
     ]
    }
   ],
   "source": [
    "even_numbers_tuple = tuple(range(2, 12, 2))\n",
    "product_of_elements = 1\n",
    "for num in even_numbers_tuple:\n",
    "    product_of_elements *= num\n",
    "\n",
    "print(\"Tuple Operations:\")\n",
    "print(\"Tuple of first five even numbers:\", even_numbers_tuple)\n",
    "print(\"Product of all elements in the tuple:\", product_of_elements)\n",
    "print()"
   ]
  },
  {
   "cell_type": "code",
   "execution_count": 3,
   "id": "26aab167",
   "metadata": {},
   "outputs": [
    {
     "name": "stdout",
     "output_type": "stream",
     "text": [
      "Set Operations:\n",
      "Set 1: {1, 3, 5, 7, 9}\n",
      "Set 2: {1, 3, 5, 7, 9}\n",
      "Union of the two sets: {1, 3, 5, 7, 9}\n",
      "Intersection of the two sets: {1, 3, 5, 7, 9}\n",
      "\n"
     ]
    }
   ],
   "source": [
    "set1 = {num for num in range(1, 11) if num % 2 != 0}\n",
    "set2 = {num for num in range(1, 11, 2)}\n",
    "union_set = set1.union(set2)\n",
    "intersection_set = set1.intersection(set2)\n",
    "\n",
    "print(\"Set Operations:\")\n",
    "print(\"Set 1:\", set1)\n",
    "print(\"Set 2:\", set2)\n",
    "print(\"Union of the two sets:\", union_set)\n",
    "print(\"Intersection of the two sets:\", intersection_set)\n",
    "print()"
   ]
  },
  {
   "cell_type": "code",
   "execution_count": 4,
   "id": "086ca555",
   "metadata": {},
   "outputs": [
    {
     "name": "stdout",
     "output_type": "stream",
     "text": [
      "Dictionary Operations:\n",
      "Dictionary of first five lowercase alphabets and their ASCII values: {'a': 97, 'b': 98, 'c': 99, 'd': 100, 'e': 101}\n",
      "\n"
     ]
    }
   ],
   "source": [
    "alphabet_dict = {chr(i): i for i in range(97, 102)}\n",
    "print(\"Dictionary Operations:\")\n",
    "print(\"Dictionary of first five lowercase alphabets and their ASCII values:\", alphabet_dict)\n",
    "print()"
   ]
  },
  {
   "cell_type": "code",
   "execution_count": 5,
   "id": "ad4208d6",
   "metadata": {},
   "outputs": [
    {
     "name": "stdout",
     "output_type": "stream",
     "text": [
      "Functional Programming:\n",
      "List after applying square function using map: [1, 4, 9, 16, 25, 36, 49, 64, 81, 100]\n"
     ]
    }
   ],
   "source": [
    "def square(x):\n",
    "    return x ** 2\n",
    "\n",
    "mapped_result = list(map(square, range(1, 11)))\n",
    "\n",
    "print(\"Functional Programming:\")\n",
    "print(\"List after applying square function using map:\", mapped_result)"
   ]
  },
  {
   "cell_type": "code",
   "execution_count": null,
   "id": "7e35492a",
   "metadata": {},
   "outputs": [],
   "source": []
  }
 ],
 "metadata": {
  "kernelspec": {
   "display_name": "Python 3 (ipykernel)",
   "language": "python",
   "name": "python3"
  },
  "language_info": {
   "codemirror_mode": {
    "name": "ipython",
    "version": 3
   },
   "file_extension": ".py",
   "mimetype": "text/x-python",
   "name": "python",
   "nbconvert_exporter": "python",
   "pygments_lexer": "ipython3",
   "version": "3.11.5"
  }
 },
 "nbformat": 4,
 "nbformat_minor": 5
}
